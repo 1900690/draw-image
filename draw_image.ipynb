{
  "nbformat": 4,
  "nbformat_minor": 0,
  "metadata": {
    "colab": {
      "provenance": [],
      "authorship_tag": "ABX9TyM8KzOpCiwud3d8HiLNwhYh",
      "include_colab_link": true
    },
    "kernelspec": {
      "name": "python3",
      "display_name": "Python 3"
    },
    "language_info": {
      "name": "python"
    }
  },
  "cells": [
    {
      "cell_type": "markdown",
      "metadata": {
        "id": "view-in-github",
        "colab_type": "text"
      },
      "source": [
        "<a href=\"https://colab.research.google.com/github/1900690/draw-image/blob/main/draw_image.ipynb\" target=\"_parent\"><img src=\"https://colab.research.google.com/assets/colab-badge.svg\" alt=\"Open In Colab\"/></a>"
      ]
    },
    {
      "cell_type": "code",
      "source": [
        "import numpy as np\n",
        "import matplotlib.pyplot as plt\n",
        "import cv2\n",
        "import random\n",
        "import os\n",
        "from io import BytesIO\n",
        "\n",
        "def generate_random_parameters():\n",
        "    \"\"\" ランダムなパラメータを生成 \"\"\"\n",
        "    white_radius = random.uniform(0.4, 0.7)\n",
        "    green_radius = random.uniform(0.01, 0.5)\n",
        "    brown_size = random.uniform(0.01, 0.3)\n",
        "    brown_angle = random.uniform(0, np.pi)\n",
        "    brown_x = np.cos(brown_angle) * white_radius\n",
        "    brown_y = np.sin(brown_angle) * white_radius\n",
        "    angle_rand=random.uniform(0, np.pi)\n",
        "    return white_radius, green_radius, brown_size, brown_x, brown_y,angle_rand\n",
        "\n",
        "def create_figure():\n",
        "    \"\"\" 図を作成し、画像としてメモリに保存 \"\"\"\n",
        "    white_radius, green_radius, brown_size, brown_x, brown_y ,angle_rand= generate_random_parameters()\n",
        "    angles = [np.pi / 2+angle_rand, -np.pi / 6+angle_rand, -5 * np.pi / 6+angle_rand]\n",
        "    green_positions = [(np.cos(angle) * white_radius, np.sin(angle) * white_radius) for angle in angles]\n",
        "    brown_positions = [(np.cos(angle) * white_radius, np.sin(angle) * white_radius) for angle in angles]\n",
        "\n",
        "    fig, ax = plt.subplots()\n",
        "    ax.set_xlim(-1, 1)\n",
        "    ax.set_ylim(-1, 1)\n",
        "    ax.set_aspect('equal')\n",
        "    #背景を決める\n",
        "    ax.set_facecolor('#dcdcda')\n",
        "    ax.axis('off')\n",
        "\n",
        "    # 緑の円（3つ）\n",
        "    for x, y in green_positions:\n",
        "        ax.add_patch(plt.Circle((x, y), green_radius, color='#85a514', zorder=4))\n",
        "\n",
        "    # 茶色の楕円（3つ）\n",
        "    for x, y in green_positions:\n",
        "        ax.add_patch(plt.Circle((x,y), brown_size, color='#a13f2d', zorder=5))\n",
        "\n",
        "    # 画像をメモリに保存\n",
        "    buf = BytesIO()\n",
        "    fig.savefig(buf, format='png', dpi=300)\n",
        "    plt.close(fig)\n",
        "    buf.seek(0)\n",
        "    return buf\n",
        "\n",
        "def apply_circle_mask(image_buffer, output_file):\n",
        "    \"\"\" 円形マスクを適用し、結果を保存 \"\"\"\n",
        "    # メモリから画像を読み込み\n",
        "    image_array = np.frombuffer(image_buffer.getvalue(), dtype=np.uint8)\n",
        "    img = cv2.imdecode(image_array, cv2.IMREAD_COLOR)\n",
        "    height, width = img.shape[:2]\n",
        "    mask = np.zeros_like(img, dtype=np.uint8)\n",
        "    circle_mask = cv2.circle(mask, (width // 2, height // 2), 300, (255, 255, 255), thickness=-1)\n",
        "    masked_img = cv2.bitwise_and(img, circle_mask)\n",
        "    #cv2.imwrite(output_file, masked_img)\n",
        "\n",
        "    # 画像の中心部分を切り取る\n",
        "    center_x, center_y = width // 2, height // 2\n",
        "    crop_size = 300  # 切り取りサイズ\n",
        "    cropped_img = masked_img[center_y - crop_size:center_y + crop_size, center_x - crop_size:center_x + crop_size]\n",
        "\n",
        "    cv2.imwrite(output_file, cropped_img)\n",
        "\n",
        "def main(output_folder='generated_images', num_images=5):\n",
        "    \"\"\" 指定回数繰り返し、フォルダ内に別々の画像を保存 \"\"\"\n",
        "    os.makedirs(output_folder, exist_ok=True)\n",
        "    for i in range(num_images):\n",
        "        image_buffer = create_figure()\n",
        "        output_file = os.path.join(output_folder, f'output_{i+1}.jpg')\n",
        "        apply_circle_mask(image_buffer, output_file)\n",
        "    print(f\"{num_images} images saved in '{output_folder}'\")\n",
        "\n",
        "if __name__ == \"__main__\":\n",
        "    main()"
      ],
      "metadata": {
        "id": "8AeHSPAI-dJs",
        "outputId": "0df013eb-2d2d-4446-c2a2-ac11e5652da9",
        "colab": {
          "base_uri": "https://localhost:8080/"
        }
      },
      "execution_count": 60,
      "outputs": [
        {
          "output_type": "stream",
          "name": "stdout",
          "text": [
            "5 images saved in 'generated_images'\n"
          ]
        }
      ]
    }
  ]
}